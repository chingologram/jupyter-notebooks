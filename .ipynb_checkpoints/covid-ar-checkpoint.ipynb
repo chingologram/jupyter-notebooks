{
 "cells": [
  {
   "cell_type": "markdown",
   "metadata": {},
   "source": [
    "# Estudiando la evolución del COVID-19 en Argentina\n",
    "\n",
    "## 1. Instalamos dependencias"
   ]
  },
  {
   "cell_type": "code",
   "execution_count": 1,
   "metadata": {},
   "outputs": [
    {
     "name": "stdout",
     "output_type": "stream",
     "text": [
      "Requirement already satisfied: pandas in ./lib/python3.6/site-packages (1.0.5)\n",
      "Requirement already satisfied: matplotlib in ./lib/python3.6/site-packages (3.2.2)\n",
      "Requirement already satisfied: numpy>=1.13.3 in ./lib/python3.6/site-packages (from pandas) (1.19.0)\n",
      "Requirement already satisfied: python-dateutil>=2.6.1 in ./lib/python3.6/site-packages (from pandas) (2.8.1)\n",
      "Requirement already satisfied: pytz>=2017.2 in ./lib/python3.6/site-packages (from pandas) (2020.1)\n",
      "Requirement already satisfied: kiwisolver>=1.0.1 in ./lib/python3.6/site-packages (from matplotlib) (1.2.0)\n",
      "Requirement already satisfied: cycler>=0.10 in ./lib/python3.6/site-packages (from matplotlib) (0.10.0)\n",
      "Requirement already satisfied: pyparsing!=2.0.4,!=2.1.2,!=2.1.6,>=2.0.1 in ./lib/python3.6/site-packages (from matplotlib) (2.4.7)\n",
      "Requirement already satisfied: six>=1.5 in ./lib/python3.6/site-packages (from python-dateutil>=2.6.1->pandas) (1.15.0)\n"
     ]
    }
   ],
   "source": [
    "!pip install pandas matplotlib"
   ]
  },
  {
   "cell_type": "code",
   "execution_count": 2,
   "metadata": {},
   "outputs": [],
   "source": [
    "import pandas as pd\n",
    "import matplotlib\n",
    "import matplotlib.pyplot as plt\n",
    "matplotlib.rcParams['figure.figsize'] = (10,6)"
   ]
  },
  {
   "cell_type": "code",
   "execution_count": 3,
   "metadata": {},
   "outputs": [
    {
     "name": "stdout",
     "output_type": "stream",
     "text": [
      "Pandas version: 1.0.5\n",
      "Matplotlib version: 3.2.2\n"
     ]
    }
   ],
   "source": [
    "print(\"Pandas version: {}\".format(pd.__version__))\n",
    "print(\"Matplotlib version: {}\".format(matplotlib.__version__))"
   ]
  },
  {
   "cell_type": "markdown",
   "metadata": {},
   "source": [
    "## 2. Un vistazo inicial\n",
    "Los datos están en el dataframe `df`. Como vemos, están indexados por fecha. Gracias a la gente de [Sistemas Mapache](https://github.com/SistemasMapache/Covid19arData) por estos datos.\n",
    "Parecen tener la ventaja además de contar con un feature que es el índice ordinal de día de la pandemia, de cuarentena."
   ]
  },
  {
   "cell_type": "code",
   "execution_count": 4,
   "metadata": {},
   "outputs": [
    {
     "name": "stdout",
     "output_type": "stream",
     "text": [
      "       fecha  dia_inicio  dia_cuarentena_dnu260 osm_admin_level_2  \\\n",
      "0  2/03/2020           1                    NaN         Argentina   \n",
      "1  3/03/2020           2                    NaN         Argentina   \n",
      "2  4/03/2020           3                    NaN         Argentina   \n",
      "3  5/03/2020           4                    NaN         Argentina   \n",
      "4  6/03/2020           5                    NaN         Argentina   \n",
      "\n",
      "  osm_admin_level_4 osm_admin_level_8  tot_casosconf  nue_casosconf_diff  \\\n",
      "0              CABA               NaN              1                   1   \n",
      "1     Indeterminado               NaN              1                   0   \n",
      "2     Indeterminado               NaN              1                   0   \n",
      "3      Buenos Aires               NaN              2                   1   \n",
      "4     Indeterminado               NaN              2                   0   \n",
      "\n",
      "   tot_fallecidos  nue_fallecidos_diff  tot_recuperados  tot_terapia  \\\n",
      "0               0                    0              NaN          NaN   \n",
      "1               0                    0              NaN          NaN   \n",
      "2               0                    0              NaN          NaN   \n",
      "3               2                    2              NaN          NaN   \n",
      "4               2                    0              NaN          NaN   \n",
      "\n",
      "   test_RT-PCR_negativos  test_RT-PCR_total transmision_tipo  \\\n",
      "0                    NaN                NaN        importado   \n",
      "1                    NaN                NaN        importado   \n",
      "2                    NaN                NaN        importado   \n",
      "3                    NaN                NaN        importado   \n",
      "4                    NaN                NaN        importado   \n",
      "\n",
      "       informe_tipo                                       informe_link  \\\n",
      "0               NaN  https://www.infobae.com/coronavirus/2020/03/03...   \n",
      "1               NaN                                                NaN   \n",
      "2               NaN                                                NaN   \n",
      "3  informe nacional  https://www.argentina.gob.ar/sites/default/fil...   \n",
      "4  informe nacional  https://www.argentina.gob.ar/sites/default/fil...   \n",
      "\n",
      "      observacion covid19argentina_admin_level_4  \n",
      "0  no hay informe                capital-federal  \n",
      "1  no hay informe                        no-data  \n",
      "2  no hay informe                        no-data  \n",
      "3             NaN                   buenos-aires  \n",
      "4             NaN                        no-data  \n"
     ]
    }
   ],
   "source": [
    "url = 'https://docs.google.com/spreadsheets/d/16-bnsDdmmgtSxdWbVMboIHo5FRuz76DBxsz_BbsEVWA/export?format=csv&id=16-bnsDdmmgtSxdWbVMboIHo5FRuz76DBxsz_BbsEVWA&gid=0'\n",
    "df = pd.read_csv(url)\n",
    "print(df.head())"
   ]
  },
  {
   "cell_type": "markdown",
   "metadata": {},
   "source": [
    "> ⚠️ **OJO**: Los datos no están agregados por fecha, hacia el final del dataset vemos muchas entradas para el mismo día.\n",
    "Viendo con atención, parece que están agrupados por provincia/día"
   ]
  },
  {
   "cell_type": "code",
   "execution_count": 5,
   "metadata": {},
   "outputs": [
    {
     "name": "stdout",
     "output_type": "stream",
     "text": [
      "           fecha  dia_inicio  dia_cuarentena_dnu260 osm_admin_level_2  \\\n",
      "2437  27/07/2020         145                  129.0         Argentina   \n",
      "2438  27/07/2020         145                  129.0         Argentina   \n",
      "2439  27/07/2020         145                  129.0         Argentina   \n",
      "2440  27/07/2020         145                  129.0         Argentina   \n",
      "2441  27/07/2020         145                  129.0         Argentina   \n",
      "\n",
      "        osm_admin_level_4 osm_admin_level_8  tot_casosconf  \\\n",
      "2437             Santa Fe               NaN         167376   \n",
      "2438  Santiago del Estero               NaN         167371   \n",
      "2439     Tierra del Fuego               NaN         167403   \n",
      "2440              Tucumán               NaN         167416   \n",
      "2441        Indeterminado               NaN         167416   \n",
      "\n",
      "      nue_casosconf_diff  tot_fallecidos  nue_fallecidos_diff  \\\n",
      "2437                  33            3059                    2   \n",
      "2438                  -5            3059                    0   \n",
      "2439                  32            3059                    0   \n",
      "2440                  13            3059                    0   \n",
      "2441                   0            3059                    0   \n",
      "\n",
      "      tot_recuperados  tot_terapia  test_RT-PCR_negativos  test_RT-PCR_total  \\\n",
      "2437              NaN          NaN                    NaN                NaN   \n",
      "2438              NaN          NaN                    NaN                NaN   \n",
      "2439              NaN          NaN                    NaN                NaN   \n",
      "2440              NaN          NaN                    NaN                NaN   \n",
      "2441              NaN          NaN                    NaN                NaN   \n",
      "\n",
      "     transmision_tipo informe_tipo informe_link observacion  \\\n",
      "2437              NaN          NaN          NaN         NaN   \n",
      "2438              NaN          NaN          NaN         NaN   \n",
      "2439              NaN          NaN          NaN         NaN   \n",
      "2440              NaN          NaN          NaN         NaN   \n",
      "2441              NaN          NaN          NaN         NaN   \n",
      "\n",
      "     covid19argentina_admin_level_4  \n",
      "2437                            NaN  \n",
      "2438                            NaN  \n",
      "2439                            NaN  \n",
      "2440                            NaN  \n",
      "2441                            NaN  \n"
     ]
    }
   ],
   "source": [
    "print(df.tail())"
   ]
  },
  {
   "cell_type": "markdown",
   "metadata": {},
   "source": [
    "**Empecemos ploteando la cantidad de casos y fallecidos por dia de la pandemia.**"
   ]
  },
  {
   "cell_type": "code",
   "execution_count": 6,
   "metadata": {},
   "outputs": [
    {
     "data": {
      "image/png": "[encoded data removed]",
      "text/plain": [
       "<Figure size 720x432 with 1 Axes>"
      ]
     },
     "metadata": {
      "needs_background": "light"
     },
     "output_type": "display_data"
    }
   ],
   "source": [
    "#print(df)\n",
    "df.fecha = pd.to_datetime(df.fecha, format='%d/%m/%Y')\n",
    "porDia = df.nue_casosconf_diff.groupby(df.fecha).sum()\n",
    "porDia = df.resample('D', on='fecha').sum()\n",
    "plt.bar(porDia.index, porDia.nue_casosconf_diff, width=1);"
   ]
  },
  {
   "cell_type": "markdown",
   "metadata": {},
   "source": [
    "## Ploteamos el MA para las últimas dos y tres semanas"
   ]
  },
  {
   "cell_type": "code",
   "execution_count": 7,
   "metadata": {},
   "outputs": [
    {
     "data": {
      "image/png": "[encoded data removed]",
      "text/plain": [
       "<Figure size 720x432 with 1 Axes>"
      ]
     },
     "metadata": {
      "needs_background": "light"
     },
     "output_type": "display_data"
    }
   ],
   "source": [
    "plt.bar(porDia.index, porDia.nue_casosconf_diff, width=1, alpha=.5);\n",
    "# Calculamos el MA\n",
    "ma14 = porDia.nue_casosconf_diff.rolling(14)\n",
    "ema14 = porDia.nue_casosconf_diff.ewm(14)\n",
    "plt.plot(porDia.index, ma14.mean(), color='r', label='MA 14 días');\n",
    "plt.plot(porDia.index, ema14.mean(), color='g', label='EMA 14 días');\n",
    "plt.legend();\n"
   ]
  },
  {
   "cell_type": "markdown",
   "metadata": {},
   "source": [
    "## Comparando con otros países\n",
    "El siguiente csv contiene información agrupada por país y fecha. Veamos distintos países"
   ]
  },
  {
   "cell_type": "code",
   "execution_count": 41,
   "metadata": {},
   "outputs": [
    {
     "ename": "KeyError",
     "evalue": "'Columns not found: False, True'",
     "output_type": "error",
     "traceback": [
      "\u001b[0;31m---------------------------------------------------------------------------\u001b[0m",
      "\u001b[0;31mKeyError\u001b[0m                                  Traceback (most recent call last)",
      "\u001b[0;32m<ipython-input-41-a21978971dd1>\u001b[0m in \u001b[0;36m<module>\u001b[0;34m\u001b[0m\n\u001b[1;32m      2\u001b[0m \u001b[0mdfMundo\u001b[0m \u001b[0;34m=\u001b[0m \u001b[0mpd\u001b[0m\u001b[0;34m.\u001b[0m\u001b[0mread_csv\u001b[0m\u001b[0;34m(\u001b[0m\u001b[0;34m'https://docs.google.com/spreadsheets/d/e/2PACX-1vSe-8lf6l_ShJHvd126J-jGti992SUbNLu-kmJfx1IRkvma_r4DHi0bwEW89opArs8ZkSY5G2-Bc1yT/pub?gid=0&single=true&output=csv'\u001b[0m\u001b[0;34m)\u001b[0m\u001b[0;34m\u001b[0m\u001b[0;34m\u001b[0m\u001b[0m\n\u001b[1;32m      3\u001b[0m \u001b[0mdfMundo\u001b[0m\u001b[0;34m[\u001b[0m\u001b[0;34m'fecha'\u001b[0m\u001b[0;34m]\u001b[0m \u001b[0;34m=\u001b[0m \u001b[0mpd\u001b[0m\u001b[0;34m.\u001b[0m\u001b[0mto_datetime\u001b[0m\u001b[0;34m(\u001b[0m\u001b[0mdfMundo\u001b[0m\u001b[0;34m.\u001b[0m\u001b[0mdate_epicrv\u001b[0m\u001b[0;34m,\u001b[0m \u001b[0minfer_datetime_format\u001b[0m\u001b[0;34m=\u001b[0m\u001b[0;32mTrue\u001b[0m\u001b[0;34m)\u001b[0m\u001b[0;34m\u001b[0m\u001b[0;34m\u001b[0m\u001b[0m\n\u001b[0;32m----> 4\u001b[0;31m \u001b[0mprint\u001b[0m\u001b[0;34m(\u001b[0m\u001b[0mdfMundo\u001b[0m\u001b[0;34m.\u001b[0m\u001b[0mresample\u001b[0m\u001b[0;34m(\u001b[0m\u001b[0;34m'D'\u001b[0m\u001b[0;34m,\u001b[0m \u001b[0mon\u001b[0m\u001b[0;34m=\u001b[0m\u001b[0;34m'fecha'\u001b[0m\u001b[0;34m)\u001b[0m\u001b[0;34m[\u001b[0m\u001b[0mdfMundo\u001b[0m\u001b[0;34m.\u001b[0m\u001b[0mADM0_NAME\u001b[0m \u001b[0;34m==\u001b[0m \u001b[0;34m'Brazil'\u001b[0m\u001b[0;34m]\u001b[0m\u001b[0;34m)\u001b[0m\u001b[0;34m\u001b[0m\u001b[0;34m\u001b[0m\u001b[0m\n\u001b[0m\u001b[1;32m      5\u001b[0m \u001b[0;31m#brasil = dfMundo[dfMundo.ADM0_NAME == 'Brazil']\u001b[0m\u001b[0;34m\u001b[0m\u001b[0;34m\u001b[0m\u001b[0;34m\u001b[0m\u001b[0m\n\u001b[1;32m      6\u001b[0m \u001b[0;31m#brasil.NewCase.rolling(14).mean()\u001b[0m\u001b[0;34m\u001b[0m\u001b[0;34m\u001b[0m\u001b[0;34m\u001b[0m\u001b[0m\n",
      "\u001b[0;32m~/Code/otro/jupyter/lib/python3.6/site-packages/pandas/core/base.py\u001b[0m in \u001b[0;36m__getitem__\u001b[0;34m(self, key)\u001b[0m\n\u001b[1;32m    218\u001b[0m             \u001b[0;32mif\u001b[0m \u001b[0mlen\u001b[0m\u001b[0;34m(\u001b[0m\u001b[0mself\u001b[0m\u001b[0;34m.\u001b[0m\u001b[0mobj\u001b[0m\u001b[0;34m.\u001b[0m\u001b[0mcolumns\u001b[0m\u001b[0;34m.\u001b[0m\u001b[0mintersection\u001b[0m\u001b[0;34m(\u001b[0m\u001b[0mkey\u001b[0m\u001b[0;34m)\u001b[0m\u001b[0;34m)\u001b[0m \u001b[0;34m!=\u001b[0m \u001b[0mlen\u001b[0m\u001b[0;34m(\u001b[0m\u001b[0mkey\u001b[0m\u001b[0;34m)\u001b[0m\u001b[0;34m:\u001b[0m\u001b[0;34m\u001b[0m\u001b[0;34m\u001b[0m\u001b[0m\n\u001b[1;32m    219\u001b[0m                 \u001b[0mbad_keys\u001b[0m \u001b[0;34m=\u001b[0m \u001b[0mlist\u001b[0m\u001b[0;34m(\u001b[0m\u001b[0mset\u001b[0m\u001b[0;34m(\u001b[0m\u001b[0mkey\u001b[0m\u001b[0;34m)\u001b[0m\u001b[0;34m.\u001b[0m\u001b[0mdifference\u001b[0m\u001b[0;34m(\u001b[0m\u001b[0mself\u001b[0m\u001b[0;34m.\u001b[0m\u001b[0mobj\u001b[0m\u001b[0;34m.\u001b[0m\u001b[0mcolumns\u001b[0m\u001b[0;34m)\u001b[0m\u001b[0;34m)\u001b[0m\u001b[0;34m\u001b[0m\u001b[0;34m\u001b[0m\u001b[0m\n\u001b[0;32m--> 220\u001b[0;31m                 \u001b[0;32mraise\u001b[0m \u001b[0mKeyError\u001b[0m\u001b[0;34m(\u001b[0m\u001b[0;34mf\"Columns not found: {str(bad_keys)[1:-1]}\"\u001b[0m\u001b[0;34m)\u001b[0m\u001b[0;34m\u001b[0m\u001b[0;34m\u001b[0m\u001b[0m\n\u001b[0m\u001b[1;32m    221\u001b[0m             \u001b[0;32mreturn\u001b[0m \u001b[0mself\u001b[0m\u001b[0;34m.\u001b[0m\u001b[0m_gotitem\u001b[0m\u001b[0;34m(\u001b[0m\u001b[0mlist\u001b[0m\u001b[0;34m(\u001b[0m\u001b[0mkey\u001b[0m\u001b[0;34m)\u001b[0m\u001b[0;34m,\u001b[0m \u001b[0mndim\u001b[0m\u001b[0;34m=\u001b[0m\u001b[0;36m2\u001b[0m\u001b[0;34m)\u001b[0m\u001b[0;34m\u001b[0m\u001b[0;34m\u001b[0m\u001b[0m\n\u001b[1;32m    222\u001b[0m \u001b[0;34m\u001b[0m\u001b[0m\n",
      "\u001b[0;31mKeyError\u001b[0m: 'Columns not found: False, True'"
     ]
    },
    {
     "data": {
      "image/png": "[encoded data removed]",
      "text/plain": [
       "<Figure size 720x432 with 1 Axes>"
      ]
     },
     "metadata": {
      "needs_background": "light"
     },
     "output_type": "display_data"
    }
   ],
   "source": [
    "ax = plt.subplot('111')\n",
    "dfMundo = pd.read_csv('https://docs.google.com/spreadsheets/d/e/2PACX-1vSe-8lf6l_ShJHvd126J-jGti992SUbNLu-kmJfx1IRkvma_r4DHi0bwEW89opArs8ZkSY5G2-Bc1yT/pub?gid=0&single=true&output=csv')\n",
    "dfMundo['fecha'] = pd.to_datetime(dfMundo.date_epicrv, infer_datetime_format=True)\n",
    "brasil = dfMundo[dfMundo.ADM0_NAME == 'Brazil']\n",
    "print(br)\n",
    "#brasil = dfMundo[dfMundo.ADM0_NAME == 'Brazil']\n",
    "#brasil.NewCase.rolling(14).mean()\n",
    "#peru = dfMundo[dfMundo.ADM0_NAME == 'Peru'].NewCase.rolling(14).mean()\n",
    "#plt.plot(brasil.index, brasil, color='yellow', label='Brasil', align='center');\n",
    "#plt.legend();"
   ]
  },
  {
   "cell_type": "code",
   "execution_count": null,
   "metadata": {},
   "outputs": [],
   "source": []
  },
  {
   "cell_type": "code",
   "execution_count": null,
   "metadata": {},
   "outputs": [],
   "source": []
  }
 ],
 "metadata": {
  "kernelspec": {
   "display_name": "Python 3",
   "language": "python",
   "name": "python3"
  },
  "language_info": {
   "codemirror_mode": {
    "name": "ipython",
    "version": 3
   },
   "file_extension": ".py",
   "mimetype": "text/x-python",
   "name": "python",
   "nbconvert_exporter": "python",
   "pygments_lexer": "ipython3",
   "version": "3.6.9"
  }
 },
 "nbformat": 4,
 "nbformat_minor": 4
}
