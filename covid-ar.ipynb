{
 "cells": [
  {
   "cell_type": "markdown",
   "metadata": {},
   "source": [
    "# Estudiando la evolución del COVID-19 en Argentina\n",
    "\n",
    "## 1. Instalamos dependencias"
   ]
  },
  {
   "cell_type": "code",
   "execution_count": 1,
   "metadata": {},
   "outputs": [
    {
     "name": "stdout",
     "output_type": "stream",
     "text": [
      "Requirement already satisfied: pandas in ./lib/python3.6/site-packages (1.0.5)\n",
      "Requirement already satisfied: matplotlib in ./lib/python3.6/site-packages (3.2.2)\n",
      "Requirement already satisfied: numpy>=1.13.3 in ./lib/python3.6/site-packages (from pandas) (1.19.0)\n",
      "Requirement already satisfied: pytz>=2017.2 in ./lib/python3.6/site-packages (from pandas) (2020.1)\n",
      "Requirement already satisfied: python-dateutil>=2.6.1 in ./lib/python3.6/site-packages (from pandas) (2.8.1)\n",
      "Requirement already satisfied: cycler>=0.10 in ./lib/python3.6/site-packages (from matplotlib) (0.10.0)\n",
      "Requirement already satisfied: pyparsing!=2.0.4,!=2.1.2,!=2.1.6,>=2.0.1 in ./lib/python3.6/site-packages (from matplotlib) (2.4.7)\n",
      "Requirement already satisfied: kiwisolver>=1.0.1 in ./lib/python3.6/site-packages (from matplotlib) (1.2.0)\n",
      "Requirement already satisfied: six>=1.5 in ./lib/python3.6/site-packages (from python-dateutil>=2.6.1->pandas) (1.15.0)\n"
     ]
    }
   ],
   "source": [
    "!pip install pandas matplotlib"
   ]
  },
  {
   "cell_type": "code",
   "execution_count": 2,
   "metadata": {},
   "outputs": [],
   "source": [
    "import pandas as pd\n",
    "import matplotlib\n",
    "import matplotlib.pyplot as plt\n",
    "matplotlib.rcParams['figure.figsize'] = (10,6)"
   ]
  },
  {
   "cell_type": "code",
   "execution_count": 3,
   "metadata": {},
   "outputs": [
    {
     "name": "stdout",
     "output_type": "stream",
     "text": [
      "Pandas version: 1.0.5\n",
      "Matplotlib version: 3.2.2\n"
     ]
    }
   ],
   "source": [
    "print(\"Pandas version: {}\".format(pd.__version__))\n",
    "print(\"Matplotlib version: {}\".format(matplotlib.__version__))"
   ]
  },
  {
   "cell_type": "markdown",
   "metadata": {},
   "source": [
    "## 2. Un vistazo inicial\n",
    "Los datos están en el dataframe `df`. Como vemos, están indexados por fecha. Gracias a la gente de [Sistemas Mapache](https://github.com/SistemasMapache/Covid19arData) por estos datos.\n",
    "Parecen tener la ventaja además de contar con un feature que es el índice ordinal de día de la pandemia, de cuarentena."
   ]
  },
  {
   "cell_type": "code",
   "execution_count": 4,
   "metadata": {},
   "outputs": [
    {
     "name": "stdout",
     "output_type": "stream",
     "text": [
      "       fecha  dia_inicio  dia_cuarentena_dnu260 osm_admin_level_2  \\\n",
      "0  2/03/2020           1                    NaN         Argentina   \n",
      "1  3/03/2020           2                    NaN         Argentina   \n",
      "2  4/03/2020           3                    NaN         Argentina   \n",
      "3  5/03/2020           4                    NaN         Argentina   \n",
      "4  6/03/2020           5                    NaN         Argentina   \n",
      "\n",
      "  osm_admin_level_4 osm_admin_level_8  tot_casosconf  nue_casosconf_diff  \\\n",
      "0              CABA               NaN              1                   1   \n",
      "1     Indeterminado               NaN              1                   0   \n",
      "2     Indeterminado               NaN              1                   0   \n",
      "3      Buenos Aires               NaN              2                   1   \n",
      "4     Indeterminado               NaN              2                   0   \n",
      "\n",
      "   tot_fallecidos  nue_fallecidos_diff  tot_recuperados  tot_terapia  \\\n",
      "0               0                    0              NaN          NaN   \n",
      "1               0                    0              NaN          NaN   \n",
      "2               0                    0              NaN          NaN   \n",
      "3               2                    2              NaN          NaN   \n",
      "4               2                    0              NaN          NaN   \n",
      "\n",
      "   test_RT-PCR_negativos  test_RT-PCR_total transmision_tipo  \\\n",
      "0                    NaN                NaN        importado   \n",
      "1                    NaN                NaN        importado   \n",
      "2                    NaN                NaN        importado   \n",
      "3                    NaN                NaN        importado   \n",
      "4                    NaN                NaN        importado   \n",
      "\n",
      "       informe_tipo                                       informe_link  \\\n",
      "0               NaN  https://www.infobae.com/coronavirus/2020/03/03...   \n",
      "1               NaN                                                NaN   \n",
      "2               NaN                                                NaN   \n",
      "3  informe nacional  https://www.argentina.gob.ar/sites/default/fil...   \n",
      "4  informe nacional  https://www.argentina.gob.ar/sites/default/fil...   \n",
      "\n",
      "      observacion covid19argentina_admin_level_4  \n",
      "0  no hay informe                capital-federal  \n",
      "1  no hay informe                        no-data  \n",
      "2  no hay informe                        no-data  \n",
      "3             NaN                   buenos-aires  \n",
      "4             NaN                        no-data  \n"
     ]
    }
   ],
   "source": [
    "url = 'https://docs.google.com/spreadsheets/d/16-bnsDdmmgtSxdWbVMboIHo5FRuz76DBxsz_BbsEVWA/export?format=csv&id=16-bnsDdmmgtSxdWbVMboIHo5FRuz76DBxsz_BbsEVWA&gid=0'\n",
    "df = pd.read_csv(url)\n",
    "print(df.head())"
   ]
  },
  {
   "cell_type": "markdown",
   "metadata": {},
   "source": [
    "> ⚠️ **OJO**: Los datos no están agregados por fecha, hacia el final del dataset vemos muchas entradas para el mismo día.\n",
    "Viendo con atención, parece que están agrupados por provincia/día"
   ]
  },
  {
   "cell_type": "code",
   "execution_count": 5,
   "metadata": {},
   "outputs": [
    {
     "name": "stdout",
     "output_type": "stream",
     "text": [
      "           fecha  dia_inicio  dia_cuarentena_dnu260 osm_admin_level_2  \\\n",
      "2412  26/07/2020         144                  128.0         Argentina   \n",
      "2413  26/07/2020         144                  128.0         Argentina   \n",
      "2414  26/07/2020         144                  128.0         Argentina   \n",
      "2415  26/07/2020         144                  128.0         Argentina   \n",
      "2416  26/07/2020         144                  128.0         Argentina   \n",
      "\n",
      "        osm_admin_level_4 osm_admin_level_8  tot_casosconf  \\\n",
      "2412             Santa Fe               NaN         162511   \n",
      "2413  Santiago del Estero               NaN         162512   \n",
      "2414     Tierra del Fuego               NaN         162518   \n",
      "2415              Tucumán               NaN         162526   \n",
      "2416        Indeterminado               NaN         162526   \n",
      "\n",
      "      nue_casosconf_diff  tot_fallecidos  nue_fallecidos_diff  \\\n",
      "2412                  41            2939                    0   \n",
      "2413                   1            2939                    0   \n",
      "2414                   6            2939                    0   \n",
      "2415                   8            2939                    0   \n",
      "2416                   0            2939                    0   \n",
      "\n",
      "      tot_recuperados  tot_terapia  test_RT-PCR_negativos  test_RT-PCR_total  \\\n",
      "2412              NaN          NaN                    NaN                NaN   \n",
      "2413              NaN          NaN                    NaN                NaN   \n",
      "2414              NaN          NaN                    NaN                NaN   \n",
      "2415              NaN          NaN                    NaN                NaN   \n",
      "2416              NaN          NaN                    NaN                NaN   \n",
      "\n",
      "     transmision_tipo informe_tipo informe_link observacion  \\\n",
      "2412              NaN          NaN          NaN         NaN   \n",
      "2413              NaN          NaN          NaN         NaN   \n",
      "2414              NaN          NaN          NaN         NaN   \n",
      "2415              NaN          NaN          NaN         NaN   \n",
      "2416              NaN          NaN          NaN         NaN   \n",
      "\n",
      "     covid19argentina_admin_level_4  \n",
      "2412                            NaN  \n",
      "2413                            NaN  \n",
      "2414                            NaN  \n",
      "2415                            NaN  \n",
      "2416                            NaN  \n"
     ]
    }
   ],
   "source": [
    "print(df.tail())"
   ]
  },
  {
   "cell_type": "markdown",
   "metadata": {},
   "source": [
    "**Empecemos ploteando la cantidad de casos y fallecidos por dia de la pandemia.**"
   ]
  },
  {
   "cell_type": "code",
   "execution_count": 6,
   "metadata": {},
   "outputs": [
    {
     "data": {
      "image/png": "[encoded data removed]",
      "text/plain": [
       "<Figure size 720x432 with 1 Axes>"
      ]
     },
     "metadata": {
      "needs_background": "light"
     },
     "output_type": "display_data"
    }
   ],
   "source": [
    "#print(df)\n",
    "df.fecha = pd.to_datetime(df.fecha, format='%d/%m/%Y')\n",
    "porDia = df.nue_casosconf_diff.groupby(df.fecha).sum()\n",
    "porDia = df.resample('D', on='fecha').sum()\n",
    "plt.bar(porDia.index, porDia.nue_casosconf_diff, width=1);"
   ]
  },
  {
   "cell_type": "markdown",
   "metadata": {},
   "source": [
    "## Ploteamos el MA para las últimas dos y tres semanas"
   ]
  },
  {
   "cell_type": "code",
   "execution_count": 9,
   "metadata": {},
   "outputs": [
    {
     "data": {
      "image/png": "[encoded data removed]",
      "text/plain": [
       "<Figure size 720x432 with 1 Axes>"
      ]
     },
     "metadata": {
      "needs_background": "light"
     },
     "output_type": "display_data"
    }
   ],
   "source": [
    "plt.bar(porDia.index, porDia.nue_casosconf_diff, width=1, alpha=.5);\n",
    "# Calculamos el MA\n",
    "ma14 = porDia.nue_casosconf_diff.rolling(14)\n",
    "ema14 = porDia.nue_casosconf_diff.ewm(14)\n",
    "plt.plot(porDia.index, ma14.mean(), color='r', label='MA 14 días');\n",
    "plt.plot(porDia.index, ema14.mean(), color='g', label='EMA 14 días');\n",
    "plt.legend();\n"
   ]
  },
  {
   "cell_type": "code",
   "execution_count": null,
   "metadata": {},
   "outputs": [],
   "source": []
  },
  {
   "cell_type": "code",
   "execution_count": null,
   "metadata": {},
   "outputs": [],
   "source": []
  }
 ],
 "metadata": {
  "kernelspec": {
   "display_name": "Python 3",
   "language": "python",
   "name": "python3"
  },
  "language_info": {
   "codemirror_mode": {
    "name": "ipython",
    "version": 3
   },
   "file_extension": ".py",
   "mimetype": "text/x-python",
   "name": "python",
   "nbconvert_exporter": "python",
   "pygments_lexer": "ipython3",
   "version": "3.6.9"
  }
 },
 "nbformat": 4,
 "nbformat_minor": 4
}
